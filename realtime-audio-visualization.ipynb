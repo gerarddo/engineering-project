{
 "cells": [
  {
   "cell_type": "code",
   "execution_count": 55,
   "metadata": {},
   "outputs": [],
   "source": [
    "# https://jfraj.github.io/2015/06/17/recording_audio.html\n",
    "import pyaudio\n",
    "import numpy as np\n",
    "import pylab\n",
    "import time"
   ]
  },
  {
   "cell_type": "code",
   "execution_count": 67,
   "metadata": {},
   "outputs": [],
   "source": [
    "p = pyaudio.PyAudio()"
   ]
  },
  {
   "cell_type": "code",
   "execution_count": 68,
   "metadata": {},
   "outputs": [
    {
     "data": {
      "text/plain": [
       "{'index': 0,\n",
       " 'structVersion': 2,\n",
       " 'name': 'Built-in Microphone',\n",
       " 'hostApi': 0,\n",
       " 'maxInputChannels': 2,\n",
       " 'maxOutputChannels': 0,\n",
       " 'defaultLowInputLatency': 0.0029478458049886623,\n",
       " 'defaultLowOutputLatency': 0.01,\n",
       " 'defaultHighInputLatency': 0.09437641723356009,\n",
       " 'defaultHighOutputLatency': 0.1,\n",
       " 'defaultSampleRate': 44100.0}"
      ]
     },
     "execution_count": 68,
     "metadata": {},
     "output_type": "execute_result"
    }
   ],
   "source": [
    "p.get_default_input_device_info()"
   ]
  },
  {
   "cell_type": "code",
   "execution_count": 69,
   "metadata": {},
   "outputs": [],
   "source": [
    "FRAMES_PERBUFF = 4096 # number of frames per buffer\n",
    "FORMAT = pyaudio.paInt16 # 16 bit int\n",
    "CHANNELS = 1 # I guess this is for mono sounds\n",
    "FRAME_RATE = 11025 # sample rate"
   ]
  },
  {
   "cell_type": "code",
   "execution_count": 70,
   "metadata": {},
   "outputs": [],
   "source": [
    "stream = p.open(format=FORMAT,\n",
    "                channels=CHANNELS,\n",
    "                rate=FRAME_RATE,\n",
    "                input=True,\n",
    "                frames_per_buffer=FRAMES_PERBUFF) #buffer"
   ]
  },
  {
   "cell_type": "code",
   "execution_count": 71,
   "metadata": {},
   "outputs": [],
   "source": [
    "frames = []"
   ]
  },
  {
   "cell_type": "code",
   "execution_count": 72,
   "metadata": {},
   "outputs": [
    {
     "ename": "OSError",
     "evalue": "[Errno -9981] Input overflowed",
     "output_type": "error",
     "traceback": [
      "\u001b[0;31m---------------------------------------------------------------------------\u001b[0m",
      "\u001b[0;31mOSError\u001b[0m                                   Traceback (most recent call last)",
      "\u001b[0;32m<ipython-input-72-0867e1171348>\u001b[0m in \u001b[0;36m<module>\u001b[0;34m\u001b[0m\n\u001b[1;32m     16\u001b[0m \u001b[0;31m#     data = stream.read(FRAMES_PERBUFF)\u001b[0m\u001b[0;34m\u001b[0m\u001b[0;34m\u001b[0m\u001b[0;34m\u001b[0m\u001b[0m\n\u001b[1;32m     17\u001b[0m     \u001b[0mframes\u001b[0m\u001b[0;34m.\u001b[0m\u001b[0mappend\u001b[0m\u001b[0;34m(\u001b[0m\u001b[0mdata\u001b[0m\u001b[0;34m)\u001b[0m \u001b[0;31m# 2 bytes(16 bits) per channel\u001b[0m\u001b[0;34m\u001b[0m\u001b[0;34m\u001b[0m\u001b[0m\n\u001b[0;32m---> 18\u001b[0;31m     \u001b[0msoundplot\u001b[0m\u001b[0;34m(\u001b[0m\u001b[0mstream\u001b[0m\u001b[0;34m)\u001b[0m\u001b[0;34m\u001b[0m\u001b[0;34m\u001b[0m\u001b[0m\n\u001b[0m\u001b[1;32m     19\u001b[0m \u001b[0mprint\u001b[0m\u001b[0;34m(\u001b[0m\u001b[0;34m\"* done recording\"\u001b[0m\u001b[0;34m)\u001b[0m\u001b[0;34m\u001b[0m\u001b[0;34m\u001b[0m\u001b[0m\n\u001b[1;32m     20\u001b[0m \u001b[0mstream\u001b[0m\u001b[0;34m.\u001b[0m\u001b[0mstop_stream\u001b[0m\u001b[0;34m(\u001b[0m\u001b[0;34m)\u001b[0m\u001b[0;34m\u001b[0m\u001b[0;34m\u001b[0m\u001b[0m\n",
      "\u001b[0;32m<ipython-input-72-0867e1171348>\u001b[0m in \u001b[0;36msoundplot\u001b[0;34m(stream)\u001b[0m\n\u001b[1;32m      4\u001b[0m \u001b[0;32mdef\u001b[0m \u001b[0msoundplot\u001b[0m\u001b[0;34m(\u001b[0m\u001b[0mstream\u001b[0m\u001b[0;34m)\u001b[0m\u001b[0;34m:\u001b[0m\u001b[0;34m\u001b[0m\u001b[0;34m\u001b[0m\u001b[0m\n\u001b[1;32m      5\u001b[0m     \u001b[0mt1\u001b[0m\u001b[0;34m=\u001b[0m\u001b[0mtime\u001b[0m\u001b[0;34m.\u001b[0m\u001b[0mtime\u001b[0m\u001b[0;34m(\u001b[0m\u001b[0;34m)\u001b[0m\u001b[0;34m\u001b[0m\u001b[0;34m\u001b[0m\u001b[0m\n\u001b[0;32m----> 6\u001b[0;31m     \u001b[0mdata\u001b[0m \u001b[0;34m=\u001b[0m \u001b[0mnp\u001b[0m\u001b[0;34m.\u001b[0m\u001b[0mfromstring\u001b[0m\u001b[0;34m(\u001b[0m\u001b[0mstream\u001b[0m\u001b[0;34m.\u001b[0m\u001b[0mread\u001b[0m\u001b[0;34m(\u001b[0m\u001b[0mFRAMES_PERBUFF\u001b[0m\u001b[0;34m)\u001b[0m\u001b[0;34m,\u001b[0m\u001b[0mdtype\u001b[0m\u001b[0;34m=\u001b[0m\u001b[0mnp\u001b[0m\u001b[0;34m.\u001b[0m\u001b[0mint16\u001b[0m\u001b[0;34m)\u001b[0m\u001b[0;34m\u001b[0m\u001b[0;34m\u001b[0m\u001b[0m\n\u001b[0m\u001b[1;32m      7\u001b[0m     \u001b[0mpylab\u001b[0m\u001b[0;34m.\u001b[0m\u001b[0mplot\u001b[0m\u001b[0;34m(\u001b[0m\u001b[0mdata\u001b[0m\u001b[0;34m)\u001b[0m\u001b[0;34m\u001b[0m\u001b[0;34m\u001b[0m\u001b[0m\n\u001b[1;32m      8\u001b[0m     \u001b[0mpylab\u001b[0m\u001b[0;34m.\u001b[0m\u001b[0mtitle\u001b[0m\u001b[0;34m(\u001b[0m\u001b[0mi\u001b[0m\u001b[0;34m)\u001b[0m\u001b[0;34m\u001b[0m\u001b[0;34m\u001b[0m\u001b[0m\n",
      "\u001b[0;32m/usr/local/lib/python3.7/site-packages/pyaudio.py\u001b[0m in \u001b[0;36mread\u001b[0;34m(self, num_frames, exception_on_overflow)\u001b[0m\n\u001b[1;32m    606\u001b[0m                           paCanNotReadFromAnOutputOnlyStream)\n\u001b[1;32m    607\u001b[0m \u001b[0;34m\u001b[0m\u001b[0m\n\u001b[0;32m--> 608\u001b[0;31m         \u001b[0;32mreturn\u001b[0m \u001b[0mpa\u001b[0m\u001b[0;34m.\u001b[0m\u001b[0mread_stream\u001b[0m\u001b[0;34m(\u001b[0m\u001b[0mself\u001b[0m\u001b[0;34m.\u001b[0m\u001b[0m_stream\u001b[0m\u001b[0;34m,\u001b[0m \u001b[0mnum_frames\u001b[0m\u001b[0;34m,\u001b[0m \u001b[0mexception_on_overflow\u001b[0m\u001b[0;34m)\u001b[0m\u001b[0;34m\u001b[0m\u001b[0;34m\u001b[0m\u001b[0m\n\u001b[0m\u001b[1;32m    609\u001b[0m \u001b[0;34m\u001b[0m\u001b[0m\n\u001b[1;32m    610\u001b[0m     \u001b[0;32mdef\u001b[0m \u001b[0mget_read_available\u001b[0m\u001b[0;34m(\u001b[0m\u001b[0mself\u001b[0m\u001b[0;34m)\u001b[0m\u001b[0;34m:\u001b[0m\u001b[0;34m\u001b[0m\u001b[0;34m\u001b[0m\u001b[0m\n",
      "\u001b[0;31mOSError\u001b[0m: [Errno -9981] Input overflowed"
     ]
    }
   ],
   "source": [
    "RECORD_SECONDS = 10\n",
    "nchunks = int(RECORD_SECONDS * FRAME_RATE / FRAMES_PERBUFF)\n",
    "\n",
    "def soundplot(stream):\n",
    "    t1=time.time()\n",
    "    data = np.fromstring(stream.read(FRAMES_PERBUFF),dtype=np.int16)\n",
    "    pylab.plot(data)\n",
    "    pylab.title(i)\n",
    "    pylab.grid()\n",
    "    pylab.axis([0,len(data),-2**16/2,2**16/2])\n",
    "    pylab.savefig(\"03.png\",dpi=50)\n",
    "    pylab.close('all')\n",
    "    print(\"took %.02f ms\"%((time.time()-t1)*1000))\n",
    "\n",
    "for i in range(0, nchunks):\n",
    "#     data = stream.read(FRAMES_PERBUFF)\n",
    "    frames.append(data) # 2 bytes(16 bits) per channel\n",
    "    soundplot(stream)\n",
    "print(\"* done recording\")\n",
    "stream.stop_stream()\n",
    "stream.close()\n",
    "p.terminate()\n"
   ]
  },
  {
   "cell_type": "code",
   "execution_count": 41,
   "metadata": {},
   "outputs": [
    {
     "name": "stderr",
     "output_type": "stream",
     "text": [
      "/usr/local/lib/python3.7/site-packages/ipykernel_launcher.py:3: DeprecationWarning: The binary mode of fromstring is deprecated, as it behaves surprisingly on unicode inputs. Use frombuffer instead\n",
      "  This is separate from the ipykernel package so we can avoid doing imports until\n"
     ]
    },
    {
     "name": "stdout",
     "output_type": "stream",
     "text": [
      "took 883.19 ms\n",
      "took 589.41 ms\n",
      "took 334.62 ms\n",
      "took 320.35 ms\n",
      "took 337.36 ms\n",
      "took 296.42 ms\n",
      "took 318.50 ms\n",
      "took 340.41 ms\n",
      "took 383.92 ms\n",
      "took 417.99 ms\n",
      "took 401.49 ms\n",
      "took 389.96 ms\n",
      "took 504.89 ms\n",
      "took 393.90 ms\n",
      "took 349.22 ms\n",
      "took 308.29 ms\n",
      "took 386.65 ms\n",
      "took 474.79 ms\n",
      "took 367.33 ms\n",
      "took 317.75 ms\n",
      "took 329.99 ms\n",
      "took 360.83 ms\n",
      "took 311.13 ms\n",
      "took 597.70 ms\n",
      "took 315.70 ms\n",
      "took 434.93 ms\n",
      "took 327.04 ms\n",
      "took 448.50 ms\n",
      "took 418.12 ms\n",
      "took 590.43 ms\n",
      "took 330.00 ms\n",
      "took 368.51 ms\n",
      "took 292.23 ms\n",
      "took 266.62 ms\n",
      "took 255.89 ms\n",
      "took 358.72 ms\n",
      "took 267.29 ms\n",
      "took 391.29 ms\n",
      "took 584.44 ms\n",
      "took 377.73 ms\n",
      "took 815.13 ms\n",
      "took 573.78 ms\n",
      "took 532.07 ms\n",
      "took 383.25 ms\n",
      "took 425.73 ms\n",
      "took 349.07 ms\n",
      "took 270.48 ms\n",
      "took 301.30 ms\n",
      "took 308.78 ms\n",
      "took 329.52 ms\n",
      "took 557.40 ms\n",
      "took 386.97 ms\n",
      "took 313.18 ms\n"
     ]
    }
   ],
   "source": [
    "def soundplot(stream):\n",
    "    t1=time.time()\n",
    "    data = np.fromstring(stream.read(FRAMES_PERBUFF),dtype=np.int16)\n",
    "    pylab.plot(data)\n",
    "    pylab.title(i)\n",
    "    pylab.grid()\n",
    "    pylab.axis([0,len(data),-2**16/2,2**16/2])\n",
    "    pylab.savefig(\"03.png\",dpi=50)\n",
    "    pylab.close('all')\n",
    "    print(\"took %.02f ms\"%((time.time()-t1)*1000))\n",
    "\n",
    "if __name__==\"__main__\":\n",
    "    p=pyaudio.PyAudio()\n",
    "    stream=p.open(\n",
    "        format=pyaudio.paInt16,\n",
    "        channels=1,\n",
    "        rate=FRAME_RATE,\n",
    "        input=True,          \n",
    "        frames_per_buffer=FRAMES_PERBUFF\n",
    "    )\n",
    "    for i in range(int(20*FRAME_RATE/FRAMES_PERBUFF)): #do this for 10 seconds\n",
    "        soundplot(stream)\n",
    "    stream.stop_stream()\n",
    "    stream.close()\n",
    "    p.terminate()"
   ]
  },
  {
   "cell_type": "code",
   "execution_count": null,
   "metadata": {},
   "outputs": [],
   "source": []
  },
  {
   "cell_type": "code",
   "execution_count": null,
   "metadata": {},
   "outputs": [],
   "source": []
  }
 ],
 "metadata": {
  "kernelspec": {
   "display_name": "Python 3",
   "language": "python",
   "name": "python3"
  },
  "language_info": {
   "codemirror_mode": {
    "name": "ipython",
    "version": 3
   },
   "file_extension": ".py",
   "mimetype": "text/x-python",
   "name": "python",
   "nbconvert_exporter": "python",
   "pygments_lexer": "ipython3",
   "version": "3.7.4"
  }
 },
 "nbformat": 4,
 "nbformat_minor": 2
}
