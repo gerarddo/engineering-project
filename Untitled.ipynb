{
 "cells": [
  {
   "cell_type": "code",
   "execution_count": 5,
   "metadata": {},
   "outputs": [],
   "source": [
    "import numpy as np"
   ]
  },
  {
   "cell_type": "code",
   "execution_count": 52,
   "metadata": {},
   "outputs": [
    {
     "name": "stderr",
     "output_type": "stream",
     "text": [
      "/usr/local/lib/python3.7/site-packages/ipykernel_launcher.py:1: RuntimeWarning: invalid value encountered in log2\n",
      "  \"\"\"Entry point for launching an IPython kernel.\n"
     ]
    },
    {
     "data": {
      "text/plain": [
       "nan"
      ]
     },
     "execution_count": 52,
     "metadata": {},
     "output_type": "execute_result"
    }
   ],
   "source": [
    "np.log2(-1) + 1\n"
   ]
  },
  {
   "cell_type": "code",
   "execution_count": 42,
   "metadata": {},
   "outputs": [],
   "source": [
    "def H(positive,negative):\n",
    "    return - np.nansum(positive*np.log2(positive)+negative*np.log2(negative))\n",
    "\n",
    "def G(init,coeff,positive,negative):\n",
    "    val = init\n",
    "    summation = 0\n",
    "    dec = 3\n",
    "    for index in range(0,len(positive)):\n",
    "        entropy = np.round(H(positive[index],negative[index]),dec)\n",
    "        print(str(index)+'th entropy = ' + str(entropy))\n",
    "        summation = summation + coeff[index]*entropy\n",
    "    summation = np.round(summation,dec)\n",
    "    print('summation = ' + str(summation))\n",
    "    return np.round(val - summation,dec)"
   ]
  },
  {
   "cell_type": "code",
   "execution_count": 43,
   "metadata": {},
   "outputs": [
    {
     "name": "stdout",
     "output_type": "stream",
     "text": [
      "0th entropy = 0.985\n",
      "1th entropy = 0.592\n",
      "summation = 0.788\n"
     ]
    },
    {
     "data": {
      "text/plain": [
       "0.152"
      ]
     },
     "execution_count": 43,
     "metadata": {},
     "output_type": "execute_result"
    }
   ],
   "source": [
    "# humidity\n",
    "coeff = [7/14,7/14]\n",
    "positive = [3/7,6/7]\n",
    "negative = [4/7,1/7]\n",
    "G(0.9402,coeff,positive,negative)"
   ]
  },
  {
   "cell_type": "code",
   "execution_count": 44,
   "metadata": {},
   "outputs": [
    {
     "name": "stdout",
     "output_type": "stream",
     "text": [
      "0th entropy = 0.971\n",
      "1th entropy = -0.0\n",
      "2th entropy = 0.971\n",
      "summation = 0.694\n"
     ]
    },
    {
     "name": "stderr",
     "output_type": "stream",
     "text": [
      "/usr/local/lib/python3.7/site-packages/ipykernel_launcher.py:2: RuntimeWarning: divide by zero encountered in log2\n",
      "  \n",
      "/usr/local/lib/python3.7/site-packages/ipykernel_launcher.py:2: RuntimeWarning: invalid value encountered in double_scalars\n",
      "  \n"
     ]
    },
    {
     "data": {
      "text/plain": [
       "0.246"
      ]
     },
     "execution_count": 44,
     "metadata": {},
     "output_type": "execute_result"
    }
   ],
   "source": [
    "# outlook\n",
    "coeff = [5/14,4/14,5/14]\n",
    "positive = [2/5,4/4,3/5]\n",
    "negative = [3/5,0/4,2/5]\n",
    "G(0.9402,coeff,positive,negative)"
   ]
  },
  {
   "cell_type": "code",
   "execution_count": 45,
   "metadata": {},
   "outputs": [
    {
     "name": "stdout",
     "output_type": "stream",
     "text": [
      "0th entropy = 1.0\n",
      "1th entropy = 0.918\n",
      "2th entropy = 0.811\n",
      "summation = 0.911\n"
     ]
    },
    {
     "data": {
      "text/plain": [
       "0.029"
      ]
     },
     "execution_count": 45,
     "metadata": {},
     "output_type": "execute_result"
    }
   ],
   "source": [
    "# temperature\n",
    "coeff = [4/14,6/14,4/14]\n",
    "positive = [2/4,4/6,3/4]\n",
    "negative = [2/4,2/6,1/4]\n",
    "G(0.9402,coeff,positive,negative)"
   ]
  },
  {
   "cell_type": "code",
   "execution_count": 46,
   "metadata": {},
   "outputs": [
    {
     "name": "stdout",
     "output_type": "stream",
     "text": [
      "0th entropy = 0.811\n",
      "1th entropy = 1.0\n",
      "summation = 0.892\n"
     ]
    },
    {
     "data": {
      "text/plain": [
       "0.048"
      ]
     },
     "execution_count": 46,
     "metadata": {},
     "output_type": "execute_result"
    }
   ],
   "source": [
    "# windy\n",
    "coeff = [8/14,6/14]\n",
    "positive = [6/8,3/6]\n",
    "negative = [2/8,3/6]\n",
    "G(0.9402,coeff,positive,negative)"
   ]
  },
  {
   "cell_type": "code",
   "execution_count": null,
   "metadata": {},
   "outputs": [],
   "source": []
  }
 ],
 "metadata": {
  "kernelspec": {
   "display_name": "Python 3",
   "language": "python",
   "name": "python3"
  },
  "language_info": {
   "codemirror_mode": {
    "name": "ipython",
    "version": 3
   },
   "file_extension": ".py",
   "mimetype": "text/x-python",
   "name": "python",
   "nbconvert_exporter": "python",
   "pygments_lexer": "ipython3",
   "version": "3.7.4"
  }
 },
 "nbformat": 4,
 "nbformat_minor": 2
}
