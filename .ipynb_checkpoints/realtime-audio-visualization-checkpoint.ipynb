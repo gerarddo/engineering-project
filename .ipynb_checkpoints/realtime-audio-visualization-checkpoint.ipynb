{
 "cells": [
  {
   "cell_type": "code",
   "execution_count": 1,
   "metadata": {},
   "outputs": [],
   "source": [
    "# https://jfraj.github.io/2015/06/17/recording_audio.html\n",
    "import pyaudio"
   ]
  },
  {
   "cell_type": "code",
   "execution_count": 2,
   "metadata": {},
   "outputs": [],
   "source": [
    "p = pyaudio.PyAudio()"
   ]
  },
  {
   "cell_type": "code",
   "execution_count": 3,
   "metadata": {},
   "outputs": [
    {
     "data": {
      "text/plain": [
       "{'index': 0,\n",
       " 'structVersion': 2,\n",
       " 'name': 'Built-in Microphone',\n",
       " 'hostApi': 0,\n",
       " 'maxInputChannels': 2,\n",
       " 'maxOutputChannels': 0,\n",
       " 'defaultLowInputLatency': 0.0029478458049886623,\n",
       " 'defaultLowOutputLatency': 0.01,\n",
       " 'defaultHighInputLatency': 0.01310657596371882,\n",
       " 'defaultHighOutputLatency': 0.1,\n",
       " 'defaultSampleRate': 44100.0}"
      ]
     },
     "execution_count": 3,
     "metadata": {},
     "output_type": "execute_result"
    }
   ],
   "source": [
    "p.get_default_input_device_info()"
   ]
  },
  {
   "cell_type": "code",
   "execution_count": null,
   "metadata": {},
   "outputs": [],
   "source": []
  }
 ],
 "metadata": {
  "kernelspec": {
   "display_name": "Python 3",
   "language": "python",
   "name": "python3"
  },
  "language_info": {
   "codemirror_mode": {
    "name": "ipython",
    "version": 3
   },
   "file_extension": ".py",
   "mimetype": "text/x-python",
   "name": "python",
   "nbconvert_exporter": "python",
   "pygments_lexer": "ipython3",
   "version": "3.7.4"
  }
 },
 "nbformat": 4,
 "nbformat_minor": 2
}
